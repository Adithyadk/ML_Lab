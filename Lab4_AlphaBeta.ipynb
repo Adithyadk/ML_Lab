{
 "cells": [
  {
   "cell_type": "code",
   "execution_count": 1,
   "metadata": {},
   "outputs": [
    {
     "name": "stdout",
     "output_type": "stream",
     "text": [
      "The optimal value is : 5\n"
     ]
    }
   ],
   "source": [
    "MAX, MIN = 1000, -1000\n",
    "\n",
    "def alphabeta_minimax(depth, nodeIndex, maximizingPlayer, values, alpha, beta):\n",
    "\n",
    "\tif depth == 3:\n",
    "\t\treturn values[nodeIndex]\n",
    "\n",
    "\tif maximizingPlayer:\n",
    "\t\tbest = MIN\n",
    "\t\tfor i in range(0, 2):\n",
    "\t\t\tval = alphabeta_minimax(depth + 1, nodeIndex * 2 + i, False, values, alpha, beta)\n",
    "\t\t\tbest = max(best, val)\n",
    "\t\t\talpha = max(alpha, best)\n",
    "\n",
    "\t\t\tif beta <= alpha:\n",
    "\t\t\t\tbreak\n",
    "\t\treturn best\n",
    "\n",
    "\telse:\n",
    "\t\tbest = MAX\n",
    "\t\tfor i in range(0, 2):\n",
    "\t\t\tval = alphabeta_minimax(depth + 1, nodeIndex * 2 + i, True, values, alpha, beta)\n",
    "\t\t\tbest = min(best, val)\n",
    "\t\t\tbeta = min(beta, best)\n",
    "\n",
    "\t\t\tif beta <= alpha:\n",
    "\t\t\t\tbreak\n",
    "\n",
    "\t\treturn best\n",
    "\n",
    "\n",
    "values = [3, 5, 6, 9, 1, 2, 0, -1]\n",
    "print(\"The optimal value is :\", alphabeta_minimax(0, 0, True, values, MIN, MAX))"
   ]
  },
  {
   "cell_type": "code",
   "execution_count": null,
   "metadata": {},
   "outputs": [],
   "source": []
  }
 ],
 "metadata": {
  "kernelspec": {
   "display_name": "Python 3",
   "language": "python",
   "name": "python3"
  },
  "language_info": {
   "codemirror_mode": {
    "name": "ipython",
    "version": 3
   },
   "file_extension": ".py",
   "mimetype": "text/x-python",
   "name": "python",
   "nbconvert_exporter": "python",
   "pygments_lexer": "ipython3",
   "version": "3.7.4"
  }
 },
 "nbformat": 4,
 "nbformat_minor": 2
}
