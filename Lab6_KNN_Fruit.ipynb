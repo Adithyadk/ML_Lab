{
 "cells": [
  {
   "cell_type": "code",
   "execution_count": 8,
   "metadata": {},
   "outputs": [
    {
     "name": "stdout",
     "output_type": "stream",
     "text": [
      "Accuracy with Euclidean distance (using sklearn): 0.5833333333333334\n",
      "Accuracy with Manhattan distance (using sklearn): 0.5833333333333334\n"
     ]
    }
   ],
   "source": [
    "import numpy as np\n",
    "import pandas as pd\n",
    "from sklearn.model_selection import train_test_split\n",
    "from sklearn.neighbors import KNeighborsClassifier\n",
    "from sklearn.metrics import accuracy_score\n",
    "\n",
    "\n",
    "df = pd.read_csv('fruits.csv')\n",
    "y = df['fruit_label'].values\n",
    "X = df[['mass', 'width', 'height', 'color_score']].values\n",
    "\n",
    "X_train, X_test, y_train, y_test = train_test_split(X, y, test_size=0.2, random_state=45)\n",
    "\n",
    "# Using scikit-learn with Euclidean distance\n",
    "clf_euclidean = KNeighborsClassifier(n_neighbors=5, metric='euclidean')\n",
    "clf_euclidean.fit(X_train, y_train)\n",
    "predictions_euclidean = clf_euclidean.predict(X_test)\n",
    "\n",
    "accuracy_euclidean = accuracy_score(y_test, predictions_euclidean)\n",
    "print(\"Accuracy with Euclidean distance (using sklearn):\", accuracy_euclidean)\n",
    "\n",
    "# Using scikit-learn with Manhattan distance\n",
    "clf_manhattan = KNeighborsClassifier(n_neighbors=5, metric='manhattan')\n",
    "clf_manhattan.fit(X_train, y_train)\n",
    "predictions_manhattan = clf_manhattan.predict(X_test)\n",
    "\n",
    "accuracy_manhattan = accuracy_score(y_test, predictions_manhattan)\n",
    "print(\"Accuracy with Manhattan distance (using sklearn):\", accuracy_manhattan)"
   ]
  },
  {
   "cell_type": "code",
   "execution_count": null,
   "metadata": {},
   "outputs": [],
   "source": []
  }
 ],
 "metadata": {
  "kernelspec": {
   "display_name": "Python 3",
   "language": "python",
   "name": "python3"
  },
  "language_info": {
   "codemirror_mode": {
    "name": "ipython",
    "version": 3
   },
   "file_extension": ".py",
   "mimetype": "text/x-python",
   "name": "python",
   "nbconvert_exporter": "python",
   "pygments_lexer": "ipython3",
   "version": "3.7.4"
  }
 },
 "nbformat": 4,
 "nbformat_minor": 2
}
